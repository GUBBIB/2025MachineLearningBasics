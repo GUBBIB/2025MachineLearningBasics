{
 "cells": [
  {
   "cell_type": "markdown",
   "id": "627f1f7e-fdea-436e-baff-b06b17da5ce8",
   "metadata": {},
   "source": [
    "# 개발환경 설치 및 버전"
   ]
  },
  {
   "cell_type": "code",
   "execution_count": 2,
   "id": "26090207-2a13-43da-8763-7a15b8fea0c5",
   "metadata": {},
   "outputs": [
    {
     "name": "stdout",
     "output_type": "stream",
     "text": [
      "Python version: 3.10.10 (tags/v3.10.10:aad5f6a, Feb  7 2023, 17:20:36) [MSC v.1929 64 bit (AMD64)]\n",
      "TensorFlow version: 2.19.0\n",
      "Jupyter version: 5.7.2\n",
      "NumPy version: 2.1.3\n"
     ]
    }
   ],
   "source": [
    "# 필요한 라이브러리 임포트\n",
    "import sys\n",
    "import tensorflow as tf\n",
    "import jupyter_core\n",
    "import numpy as np\n",
    "\n",
    "# 파이썬 버전\n",
    "python_version = sys.version\n",
    "\n",
    "# 텐서플로우 버전\n",
    "tensorflow_version = tf.__version__\n",
    "\n",
    "# 주피터 버전\n",
    "jupyter_version = jupyter_core.__version__\n",
    "\n",
    "# numpy 버전\n",
    "numpy_version = np.__version__\n",
    "\n",
    "# 출력\n",
    "print(f\"Python version: {python_version}\")\n",
    "print(f\"TensorFlow version: {tensorflow_version}\")\n",
    "print(f\"Jupyter version: {jupyter_version}\")\n",
    "print(f\"NumPy version: {numpy_version}\")"
   ]
  }
 ],
 "metadata": {
  "kernelspec": {
   "display_name": "Python 3 (ipykernel)",
   "language": "python",
   "name": "python3"
  },
  "language_info": {
   "codemirror_mode": {
    "name": "ipython",
    "version": 3
   },
   "file_extension": ".py",
   "mimetype": "text/x-python",
   "name": "python",
   "nbconvert_exporter": "python",
   "pygments_lexer": "ipython3",
   "version": "3.10.10"
  }
 },
 "nbformat": 4,
 "nbformat_minor": 5
}
